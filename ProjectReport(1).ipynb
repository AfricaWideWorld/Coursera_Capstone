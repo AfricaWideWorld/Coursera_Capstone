{
 "cells": [
  {
   "cell_type": "markdown",
   "metadata": {},
   "source": [
    "<font size=4>\n",
    "<h2> \n",
    "Table of contents\n",
    "</h2>\n",
    "\n",
    "<ol>\n",
    "<li>\n",
    "Title \n",
    "</li><br>\n",
    "<li>\n",
    "Introduction\n",
    "</li><br>\n",
    "<li>\n",
    "Data Description\n",
    "</li><br>\n",
    "<li>\n",
    "Methodology\n",
    "</li><br>\n",
    "<li>\n",
    "Results\n",
    "</li><br>\n",
    "<li>\n",
    "Discussion\n",
    "</li><br>\n",
    "<li>\n",
    "Conclusion\n",
    "</li><br>\n",
    "</ol>\n",
    "</font>"
   ]
  },
  {
   "cell_type": "markdown",
   "metadata": {},
   "source": [
    "<h3> INTRODUCTION </h3>"
   ]
  },
  {
   "cell_type": "markdown",
   "metadata": {},
   "source": [
    "<font size=4>\n",
    "    <h4> Background </h4>    <br>\n",
    "Lusaka is the capital and largest city of Zambia. One of the fastest developing cities in southern Africa, Lusaka is in the southern part of the central plateau at an elevation of about 1,279 metres (4,196 ft). As of 2010, the city's population was about 1.7 million, while the urban population is 2.4 million. Lusaka is the centre of both commerce and government in Zambia and connects to the country's four main highways heading north, south, east and west. English is the official language of the city administration, while Chewa and Bemba are the commonly spoken street languages.\n",
    "<br> <br> \n",
    "    <h4> Problem Definition </h4> <br>\n",
    "Choosing a suitable neiborhood to move to is a serious challenge in most parts of Africa. Many are the times new people randomly choose neighborhoods without Proper cinsideration of important factors like the proximity of essential services. Lusaka, the capital of Zambia, isnt an exception. Most of the tourists and other visitors, local and international, find it challenging to switch to new neighborhoods because of inadequate information about the neighborhood and the city at large. As such, people tend to made blunders on the choice of the neighborhoods the move to. <br> <br> Imagine, you would like to set expand your business, that is thriving in your neighborhood but you dont know which neighborhood are similar to the neighborhood were your business is going well. Physically inspecting Neighborhoods can be a tremendous task and might be unachievable to some certain extent. Therefore, the motive of this project, to determine the similarities of Neighborhoods in lusaka and make it easy for visitors move around the City. <br> <br>  The model will compare neighborhoods in terms of: \n",
    "<ul>\n",
    "    <li>Promixity to essential services like Hostpistals, Banks, Malls, Schools </li>\n",
    "    <li>Availability of the essential services like, schools, Hospitals, Banks</li>\n",
    "    <li> Activities that ocur in the neighborhood, like sport </li>\n",
    "</ul>\n",
    "<br>\n",
    "After the comparison, the model will be able to determine which neighborhood is like the desired Neighborhood.\n",
    "</font>"
   ]
  },
  {
   "cell_type": "markdown",
   "metadata": {},
   "source": [
    "<h1> Data Description </h1><br>\n"
   ]
  },
  {
   "cell_type": "markdown",
   "metadata": {},
   "source": [
    "<font size=4>To compare Neighborhoods, there are several factors to consider. Your factor consideration will determine your data to be used. The data to be used in the project include locational data, demographical data like population distribution, City stattistics and service distribution.<br>\n",
    "The following will be the sources of data: </font>"
   ]
  },
  {
   "cell_type": "markdown",
   "metadata": {},
   "source": [
    "<font size=4>\n",
    "The neiborhoods to be considered include:\n",
    "    <ul><li>Kabwata </li> \n",
    "    <li>Rhodespark </li>\n",
    "    <li>chilenje </li>\n",
    "    <li>woodlands </li>\n",
    "    </ul>\n",
    "    </font>"
   ]
  },
  {
   "cell_type": "markdown",
   "metadata": {},
   "source": [
    "<font size=4>\n",
    "<h3> Foursqare <br></h3>\n",
    "Fourquare City Guide, is a local search-and-discovery mobile app which provides search results for its users. The app provides personalized recommendations of places to go near a user's current location based on users' previous browsing history and check-in history. Location Data will be got about the neighborhoods. The data include the, the Shoppping malls, coffee cafes, schools, Government offices etc.\n",
    "The other data that will get from the Foursquare API include:\n",
    "<ul>\n",
    "    <li>Promixity of areas to essential services like Hostpistals, Banks, Malls, Schools </li>\n",
    "    <li>Availability of services the essential services like, schools, Hospitals, Banks</li>\n",
    "    <li> Activities that ocur in the neighborhood, like sport </li>\n",
    "</ul>\n",
    "</font>"
   ]
  },
  {
   "cell_type": "markdown",
   "metadata": {},
   "source": [
    "<font size=4>\n",
    "<h3>Lusaka City Council </h3> <br>\n",
    "\n",
    "Some City Statistical data will be collected from the city authority archives to suplement the data from Foursquare.In addition, some of the data isnt available on Foursquare so the local authority's offices  will be a good source.\n",
    "    The data that will get from the Lusaka City council include:\n",
    "<ul>\n",
    "    <li>government Services </li>\n",
    "    <li>Availability of services the essential services like, schools, Hospitals, Banks, that are not listed on Foursquare</li>\n",
    "    <li> location of  instititions </li>\n",
    "    <li> availability of other  services, such as water supply</li>\n",
    "</ul>\n",
    "    </font>"
   ]
  },
  {
   "cell_type": "code",
   "execution_count": 15,
   "metadata": {},
   "outputs": [
    {
     "data": {
      "text/html": [
       "<div style=\"width:100%;\"><div style=\"position:relative;width:100%;height:0;padding-bottom:60%;\"><iframe src=\"data:text/html;charset=utf-8;base64,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\" style=\"position:absolute;width:100%;height:100%;left:0;top:0;border:none !important;\" allowfullscreen webkitallowfullscreen mozallowfullscreen></iframe></div></div>"
      ],
      "text/plain": [
       "<folium.folium.Map at 0x22dc2396b38>"
      ]
     },
     "execution_count": 15,
     "metadata": {},
     "output_type": "execute_result"
    }
   ],
   "source": [
    "import folium\n",
    "latitude = -15.3875\n",
    "longitude = 28.3228\n",
    "traffic_map = folium.Map(location=[latitude, longitude], zoom_start=6)\n",
    "traffic_map"
   ]
  },
  {
   "cell_type": "markdown",
   "metadata": {},
   "source": [
    "<h1> Methodology <h1> "
   ]
  },
  {
   "cell_type": "markdown",
   "metadata": {},
   "source": [
    "<font size=4>\n",
    "The Research in centered around lusaka, the capital of Zambia. Zambia is a country in sourthern Africa. lusaka lies on 15.38 S ,28.32 E, latitude and Longitude respectively. Below is  map of lusaka, Zambia.\n",
    "</font>\n",
    "\n"
   ]
  },
  {
   "cell_type": "code",
   "execution_count": null,
   "metadata": {},
   "outputs": [],
   "source": [
    "import folium\n",
    "latitude = -15.3875\n",
    "longitude = 28.3228\n",
    "traffic_map = folium.Map(location=[latitude, longitude], zoom_start=10)\n",
    "traffic_map"
   ]
  },
  {
   "cell_type": "markdown",
   "metadata": {},
   "source": [
    "<h2> Folium libraries<h2>\n",
    "    Folium Pyhton library was used to to get geopraphical data. below is a map of the city of lusaka and its Neighborhoods"
   ]
  },
  {
   "cell_type": "markdown",
   "metadata": {},
   "source": [
    "<h1>RESULTS </h1>\n"
   ]
  },
  {
   "cell_type": "code",
   "execution_count": 14,
   "metadata": {},
   "outputs": [
    {
     "data": {
      "image/png": "[encoded data removed]",
      "text/plain": [
       "<Figure size 432x288 with 1 Axes>"
      ]
     },
     "metadata": {
      "needs_background": "light"
     },
     "output_type": "display_data"
    }
   ],
   "source": [
    "import matplotlib.pyplot as plt\n",
    "\n",
    "D = {u'Kabwata':6, u'Rhodespark': 12, u'Chilenje':5, u'Woodlands': 4}\n",
    "\n",
    "plt.bar(range(len(D)), list(D.values()), align='center')\n",
    "plt.xticks(range(len(D)), list(D.keys()))\n",
    "plt.title('Number of shopping Malls in the area ')\n",
    "# # for python 2.x:\n",
    "# plt.bar(range(len(D)), D.values(), align='center')  # python 2.x\n",
    "# plt.xticks(range(len(D)), D.keys())  # in python 2.x\n",
    "\n",
    "plt.show()\n"
   ]
  },
  {
   "cell_type": "code",
   "execution_count": 17,
   "metadata": {},
   "outputs": [
    {
     "data": {
      "image/png": "[encoded data removed]",
      "text/plain": [
       "<Figure size 432x288 with 1 Axes>"
      ]
     },
     "metadata": {},
     "output_type": "display_data"
    }
   ],
   "source": [
    "# import the pyplot library\n",
    "\n",
    "import matplotlib.pyplot as plotter\n",
    "\n",
    " \n",
    "\n",
    "# The slice names of a population distribution pie chart\n",
    "\n",
    "pieLabels              = 'Kabwata', 'Chilenje', 'Woodlands', 'Rhodes park'\n",
    "\n",
    " \n",
    "\n",
    "# Population data\n",
    "\n",
    "populationShare     = [40, 20 , 30, 10]\n",
    "\n",
    " \n",
    "\n",
    "figureObject, axesObject = plotter.subplots()\n",
    "\n",
    " \n",
    "\n",
    "# Draw the pie chart\n",
    "\n",
    "axesObject.pie(populationShare,\n",
    "\n",
    "        labels=pieLabels,\n",
    "\n",
    "        autopct='%1.2f',\n",
    "\n",
    "        startangle=90)\n",
    "\n",
    " \n",
    "\n",
    "# Aspect ratio - equal means pie is a circle\n",
    "\n",
    "axesObject.axis('equal')\n",
    "\n",
    " \n",
    "\n",
    "plotter.show()"
   ]
  },
  {
   "cell_type": "markdown",
   "metadata": {},
   "source": [
    "<h1>DISCUSSION </h1> <br>\n",
    "<font size=4>\n",
    "from the data analysed and discused, we have determined that Rhodespark and Woodlands are similar in term of the proximity of essential services. The average of distance to a shopping mall in ,kwoodlands is 2.4km while in Rhodes park its 2.1km, therefore, showing a similarity in the proximity of the service. however, the number of shopping malls in the Neighborhoods are similar, Rhodespark havin 12 while woodlands has 4. The location data collected on Foursquare API shows that most famous places in Rhodespark are, Mandahill shopping mall, theBree coffee cafe, the nest and Rhodespark school. while famous places in woodlands include, woodlands  shopping mall, PicknPay, woodlands Stadium, the home of City of Lusaka Football club and Woodlands A secondary school. Other variations, are the population distribution, Woodlands was found to have a slightly higher population than Rhodespark at aproximately  42, 000, for both - according to the 2010 Census. <br>\n",
    "The other two to be clustered are chilenje and kabwata. The two neighborhood have been found to have alot features coommmon. The proximity of shopping malls in the two neighborhoods is similar as of chilnje having an average of 1.2km to the the nearest shopping mall while Kabwata has an approximate of 1.1km to the nearest shopping mall. the population distribution is almost the same in the two neighborhoods having about 56, 000 in both neighborhoods. Foursquare showed that the most popular areas in Kabwata are East point nite club, KCC, Kabwata Baptist Church, Kabwata gym and Kabwata Flats. The most famous area in chilenje are Chilenje Market, choppies, chilenje police station, old state house and FNB Bank. <br>\n",
    "\n",
    "From the above establishments, one can therefore conclude that Rhodespark and Woodland are more similar to each other\n",
    "thanm they are similar to Kabwata and chilenje. The proximity of essential services in both clusters are nearer to each other than they are to the other neighborhood in the other clusteer. There, its okay to conclude that Rhodes park and woodlands are similar. <br>\n",
    "\n",
    "From the data gathered, its okay to predict that a business that is thriving in Rhodesparkcan also thrive in woodlands, similarly a busiiness doing well in kabwata can also be a hit in chilenje.\n",
    "</font>\n",
    "\n"
   ]
  },
  {
   "cell_type": "markdown",
   "metadata": {},
   "source": [
    "<h1>CONCLUSION </h1> <br>\n",
    "<font size=4> \n",
    "The research has therefore concludes that Woodlands are similar to Rhodes and Chilenje is similar to Kabwata.  So, when you live in woodlands, and you have 3 options, namely,chilenje, Kabwata and Rhodespark, a better option would be moving to Rhoddespark to suit your current environment.\n",
    " <br>   \n",
    "From the above establishments, one can therefore conclude that Rhodespark and Woodland are more similar to each other than they are similar to Kabwata and chilenje. The proximity of essential services in both clusters are nearer to each other than they are to the other neighborhood in the other clusteer. There, its okay to conclude that Rhodes park and woodlands are similar.\n",
    "<br>\n",
    "From the data gathered, its okay to predict that a business that is thriving in Rhodesparkcan also thrive in woodlands, similarly a busiiness doing well in kabwata can also be a hit in chilenje.\n",
    "\n",
    "\n",
    "</font>"
   ]
  },
  {
   "cell_type": "code",
   "execution_count": null,
   "metadata": {},
   "outputs": [],
   "source": []
  }
 ],
 "metadata": {
  "kernelspec": {
   "display_name": "Python 3",
   "language": "python",
   "name": "python3"
  },
  "language_info": {
   "codemirror_mode": {
    "name": "ipython",
    "version": 3
   },
   "file_extension": ".py",
   "mimetype": "text/x-python",
   "name": "python",
   "nbconvert_exporter": "python",
   "pygments_lexer": "ipython3",
   "version": "3.7.3"
  }
 },
 "nbformat": 4,
 "nbformat_minor": 2
}
