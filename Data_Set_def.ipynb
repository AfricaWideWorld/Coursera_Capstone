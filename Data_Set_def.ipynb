{
 "cells": [
  {
   "cell_type": "markdown",
   "metadata": {},
   "source": [
    "<h1> Data Description </h1><br>\n",
    "\n"
   ]
  },
  {
   "cell_type": "markdown",
   "metadata": {},
   "source": [
    "<font size=3>To compare Neighborhoods, there are several factors to consider. Your factor consideration will determine your data to be used. The data to be used in the project include locational data, demographical data like population distribution, City stattistics and service distribution.<br>\n",
    "The following will be the sources of data: </font>"
   ]
  },
  {
   "cell_type": "markdown",
   "metadata": {},
   "source": [
    "<font size=3>\n",
    "The neiborhoods to be considered include:\n",
    "    <ul><li>Kabwata </li> \n",
    "    <li>Rhodespark </li>\n",
    "    <li>chilenje </li>\n",
    "    <li>woodlands </li>\n",
    "    </ul>\n",
    "    </font>"
   ]
  },
  {
   "cell_type": "markdown",
   "metadata": {},
   "source": [
    "<font size=3>\n",
    "<h3> Foursqare <br></h3>\n",
    "Fourquare City Guide, is a local search-and-discovery mobile app which provides search results for its users. The app provides personalized recommendations of places to go near a user's current location based on users' previous browsing history and check-in history. Location Data will be got about the neighborhoods. The data include the, the Shoppping malls, coffee cafes, schools, Government offices etc.\n",
    "The other data that will get from the Foursquare API include:\n",
    "<ul>\n",
    "    <li>Promixity of areas to essential services like Hostpistals, Banks, Malls, Schools </li>\n",
    "    <li>Availability of services the essential services like, schools, Hospitals, Banks</li>\n",
    "    <li> Activities that ocur in the neighborhood, like sport </li>\n",
    "</ul>\n",
    "</font>"
   ]
  },
  {
   "cell_type": "markdown",
   "metadata": {},
   "source": [
    "<h3>Lusaka City Council </h3> <br>\n",
    "<font size=3>\n",
    "Some City Statistical data will be collected from the city authority archives to suplement the data from Foursquare.In addition, some of the data isnt available on Foursquare so the local authority's offices  will be a good source.\n",
    "    The data that will get from the Lusaka City council include:\n",
    "<ul>\n",
    "    <li>government Services </li>\n",
    "    <li>Availability of services the essential services like, schools, Hospitals, Banks, that are not listed on Foursquare</li>\n",
    "    <li> location of  instititions </li>\n",
    "    <li> availability of other  services, such as water supply</li>\n",
    "</ul>\n",
    "    </font>"
   ]
  },
  {
   "cell_type": "code",
   "execution_count": null,
   "metadata": {},
   "outputs": [],
   "source": []
  }
 ],
 "metadata": {
  "kernelspec": {
   "display_name": "Python 3",
   "language": "python",
   "name": "python3"
  },
  "language_info": {
   "codemirror_mode": {
    "name": "ipython",
    "version": 3
   },
   "file_extension": ".py",
   "mimetype": "text/x-python",
   "name": "python",
   "nbconvert_exporter": "python",
   "pygments_lexer": "ipython3",
   "version": "3.7.3"
  }
 },
 "nbformat": 4,
 "nbformat_minor": 2
}
