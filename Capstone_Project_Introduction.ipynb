{
 "cells": [
  {
   "cell_type": "markdown",
   "metadata": {},
   "source": [
    "<h1>THE SIMILARITIES OF NEIGHBORHOODS IN LUSAKA, ZAMBIA </h1>"
   ]
  },
  {
   "cell_type": "markdown",
   "metadata": {},
   "source": [
    "<h3> INTRODUCTION </h3>"
   ]
  },
  {
   "cell_type": "markdown",
   "metadata": {},
   "source": [
    "<font size=4>\n",
    "Choosing a suitable neiborhood to move to is a serious challenge in most parts of Africa. Many are the times new people randomly choose neighborhoods without Proper cinsideration of important factors like the proximity of essential services. Lusaka, the capital of Zambia, isnt an exception. Most of the tourists and other visitors, local and international, find it challenging to switch to new neighborhoods because of inadequate information about the neighborhood and the city at large. As such, people tend to made blunders on the choice of the neighborhoods the move to. <br> <br> Imagine, you would like to set expand your business, that is thriving in your neighborhood but you dont know which neighborhood are similar to the neighborhood were your business is going well. Physically inspecting Neighborhoods can be a tremendous task and might be unachievable to some certain extent. Therefore, the motive of this project, to determine the similarities of Neighborhoods in lusaka and make it easy for visitors move around the City. <br> <br>  The model will compare neighborhoods in terms of: \n",
    "<ul>\n",
    "    <li>Promixity to essential services like Hostpistals, Banks, Malls, Schools </li>\n",
    "    <li>Availability of the essential services like, schools, Hospitals, Banks</li>\n",
    "    <li> Activities that ocur in the neighborhood, like sport </li>\n",
    "</ul>\n",
    "<br>\n",
    "After the comparison, the model will be able to determine which neighborhood is like the desired Neighborhood.\n",
    "</font>"
   ]
  }
 ],
 "metadata": {
  "kernelspec": {
   "display_name": "Python 3",
   "language": "python",
   "name": "python3"
  },
  "language_info": {
   "codemirror_mode": {
    "name": "ipython",
    "version": 3
   },
   "file_extension": ".py",
   "mimetype": "text/x-python",
   "name": "python",
   "nbconvert_exporter": "python",
   "pygments_lexer": "ipython3",
   "version": "3.7.3"
  }
 },
 "nbformat": 4,
 "nbformat_minor": 2
}
